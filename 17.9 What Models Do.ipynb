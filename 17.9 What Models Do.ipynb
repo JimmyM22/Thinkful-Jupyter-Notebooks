{
 "cells": [
  {
   "cell_type": "markdown",
   "metadata": {},
   "source": [
    "### 1. Try to model the result of a coin toss. In your model, include any features that you think important in explaining the result. Discuss with your mentor about the pros and cons of adding too many features into your model."
   ]
  },
  {
   "cell_type": "markdown",
   "metadata": {},
   "source": [
    "1. The force applied to the coin.\n",
    "\n",
    "2. The weight of the coin.\n",
    "\n",
    "3. The vertical distance between the place the coin is tossed and the place it should fall into.\n",
    "\n",
    "4. The hardness of the surface the coin is landing on\n",
    "\n",
    "5. Radius of the coin\n",
    "\n",
    "6. Volume of the coin\n",
    "\n",
    "7. The amount of time the coin is in the air\n",
    "\n"
   ]
  },
  {
   "cell_type": "markdown",
   "metadata": {},
   "source": [
    "### 2. If you ever used Netflix, you should already have realized that it provides some recommendations for you to watch. In data science, this is an example of the so called recommendations systems. Read this non-technical blog post of Netflix about how they model their recommendations systems. Then, derive the features they use in their recommendations engines and discuss what else can be incorporated into this model."
   ]
  },
  {
   "cell_type": "markdown",
   "metadata": {},
   "source": [
    "Netflix Features \n",
    "- your interactions with our service (such as your viewing history and how you rated other titles),\n",
    "- other members with similar tastes and preferences on our service, and\n",
    "- information about the titles, such as their genre, categories, actors, release year, etc.\n",
    "- the time of day you watch,\n",
    "- the devices you are watching Netflix on, and\n",
    "- how long you watch.\n",
    "\n",
    "New Features\n",
    "- the correlation between the length/number/ratings of all the titles in My List vs the actual watched time/number/rated\n",
    "- number of clicks scrolling through sections\n",
    "\n"
   ]
  },
  {
   "cell_type": "code",
   "execution_count": null,
   "metadata": {},
   "outputs": [],
   "source": []
  }
 ],
 "metadata": {
  "kernelspec": {
   "display_name": "Python 3",
   "language": "python",
   "name": "python3"
  },
  "language_info": {
   "codemirror_mode": {
    "name": "ipython",
    "version": 3
   },
   "file_extension": ".py",
   "mimetype": "text/x-python",
   "name": "python",
   "nbconvert_exporter": "python",
   "pygments_lexer": "ipython3",
   "version": "3.7.4"
  }
 },
 "nbformat": 4,
 "nbformat_minor": 2
}
