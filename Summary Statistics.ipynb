{
 "cells": [
  {
   "cell_type": "code",
   "execution_count": 1,
   "metadata": {},
   "outputs": [],
   "source": [
    "import pandas as pd\n",
    "import matplotlib.pyplot as plt\n",
    "import statistics\n",
    "import numpy as np"
   ]
  },
  {
   "cell_type": "code",
   "execution_count": 2,
   "metadata": {},
   "outputs": [],
   "source": [
    "df = pd.DataFrame()\n",
    "df['age'] = [14, 12, 11, 10, 8, 8, 6]"
   ]
  },
  {
   "cell_type": "code",
   "execution_count": 3,
   "metadata": {},
   "outputs": [
    {
     "name": "stdout",
     "output_type": "stream",
     "text": [
      "Mean: 9.857142857142858\n",
      "Median: 10.0\n",
      "Mode: 8\n",
      "Variance: 6.408163265306122\n",
      "Standard Deviation: 2.734262327610589\n",
      "Standard Error: 1.0334540197243192\n"
     ]
    }
   ],
   "source": [
    "print(\"Mean:\", np.mean(df['age']))\n",
    "print(\"Median:\", np.median(df['age']))\n",
    "print(\"Mode:\", statistics.mode(df['age']))\n",
    "print(\"Variance:\", np.var(df.age))\n",
    "print(\"Standard Deviation:\", np.std(df['age'], ddof=1))\n",
    "print(\"Standard Error:\", np.std(df['age'] ,ddof=1) / np.sqrt(len(df['age'])))"
   ]
  },
  {
   "cell_type": "code",
   "execution_count": 4,
   "metadata": {},
   "outputs": [
    {
     "name": "stdout",
     "output_type": "stream",
     "text": [
      "I would pick the median to respresent the central tendency because the data set only comprises of 7 numbers and the max and min of the set are equidistant from the median. The mean is very close to the median but doesnt have that same relationship with the min and max of the set. I would pick the standard error because these ages are what seems to be the ration choice for the kids age in a family sitcom.\n"
     ]
    }
   ],
   "source": [
    "print(\"I would pick the median to respresent the central tendency because the data set only comprises of 7 numbers and the max and min of the set are equidistant from the median. The mean is very close to the median but doesnt have that same relationship with the min and max of the set. I would pick the standard error because these ages are what seems to be the ration choice for the kids age in a family sitcom.\")"
   ]
  },
  {
   "cell_type": "code",
   "execution_count": 5,
   "metadata": {},
   "outputs": [
    {
     "name": "stdout",
     "output_type": "stream",
     "text": [
      "Mean: 10.0\n",
      "Median: 10.0\n",
      "Mode: 8\n",
      "Variance: 5.428571428571429\n",
      "Standard Deviation: 2.516611478423583\n",
      "Standard Error: 0.9511897312113418\n"
     ]
    }
   ],
   "source": [
    "df = pd.DataFrame()\n",
    "df['age'] = [14, 12, 11, 10, 8, 8, 7]\n",
    "print(\"Mean:\", np.mean(df['age']))\n",
    "print(\"Median:\", np.median(df['age']))\n",
    "print(\"Mode:\", statistics.mode(df['age']))\n",
    "print(\"Variance:\", np.var(df.age))\n",
    "print(\"Standard Deviation:\", np.std(df['age'], ddof=1))\n",
    "print(\"Standard Error:\", np.std(df['age'] ,ddof=1) / np.sqrt(len(df['age'])))"
   ]
  },
  {
   "cell_type": "code",
   "execution_count": 6,
   "metadata": {},
   "outputs": [
    {
     "name": "stdout",
     "output_type": "stream",
     "text": [
      "Everything changed except for the median and the mode.\n"
     ]
    }
   ],
   "source": [
    "print(\"Everything changed except for the median and the mode.\")"
   ]
  },
  {
   "cell_type": "code",
   "execution_count": 7,
   "metadata": {},
   "outputs": [
    {
     "name": "stdout",
     "output_type": "stream",
     "text": [
      "Mean: 9.0\n",
      "Median: 10.0\n",
      "Variance: 15.428571428571429\n",
      "Standard Deviation: 4.242640687119285\n",
      "Standard Error: 1.6035674514745462\n"
     ]
    }
   ],
   "source": [
    "df = pd.DataFrame()\n",
    "df['age'] = [14, 12, 11, 10, 8, 1, 7]\n",
    "print(\"Mean:\", np.mean(df['age']))\n",
    "print(\"Median:\", np.median(df['age']))\n",
    "print(\"Variance:\", np.var(df.age))\n",
    "print(\"Standard Deviation:\", np.std(df['age'], ddof=1))\n",
    "print(\"Standard Error:\", np.std(df['age'] ,ddof=1) / np.sqrt(len(df['age'])))"
   ]
  },
  {
   "cell_type": "code",
   "execution_count": 8,
   "metadata": {},
   "outputs": [
    {
     "name": "stdout",
     "output_type": "stream",
     "text": [
      "No\n"
     ]
    }
   ],
   "source": [
    "print(\"No\")"
   ]
  },
  {
   "cell_type": "code",
   "execution_count": 9,
   "metadata": {},
   "outputs": [
    {
     "name": "stdout",
     "output_type": "stream",
     "text": [
      "Mean: 16.25\n",
      "Median: 18.5\n",
      "Variance: 46.6875\n",
      "Standard Deviation: 7.88986691902975\n",
      "Standard Error: 3.944933459514875\n"
     ]
    }
   ],
   "source": [
    "df = pd.DataFrame()\n",
    "df['age'] = [20, 23, 17, 5]\n",
    "print(\"Mean:\", np.mean(df['age']))\n",
    "print(\"Median:\", np.median(df['age']))\n",
    "print(\"Variance:\", np.var(df.age))\n",
    "print(\"Standard Deviation:\", np.std(df['age'], ddof=1))\n",
    "print(\"Standard Error:\", np.std(df['age'] ,ddof=1) / np.sqrt(len(df['age'])))"
   ]
  },
  {
   "cell_type": "code",
   "execution_count": 10,
   "metadata": {},
   "outputs": [
    {
     "name": "stdout",
     "output_type": "stream",
     "text": [
      "I'd say 16.25% of americans were fans of the show\n"
     ]
    }
   ],
   "source": [
    "print(\"I'd say 16.25% of americans were fans of the show\")"
   ]
  },
  {
   "cell_type": "code",
   "execution_count": null,
   "metadata": {},
   "outputs": [],
   "source": []
  }
 ],
 "metadata": {
  "kernelspec": {
   "display_name": "Python 3",
   "language": "python",
   "name": "python3"
  },
  "language_info": {
   "codemirror_mode": {
    "name": "ipython",
    "version": 3
   },
   "file_extension": ".py",
   "mimetype": "text/x-python",
   "name": "python",
   "nbconvert_exporter": "python",
   "pygments_lexer": "ipython3",
   "version": "3.7.4"
  }
 },
 "nbformat": 4,
 "nbformat_minor": 2
}
